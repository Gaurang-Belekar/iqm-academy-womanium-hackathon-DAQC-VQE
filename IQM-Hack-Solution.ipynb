{
 "cells": [
  {
   "cell_type": "code",
   "execution_count": 1,
   "metadata": {},
   "outputs": [],
   "source": [
    "# We will need some functionality \n",
    "from typing import List \n",
    "\n",
    "# and from math related libraries\n",
    "import numpy as np\n",
    "import qutip as qt\n",
    "\n",
    "# and from qiskit\n",
    "from qiskit.extensions import HamiltonianGate\n",
    "from qiskit import QuantumCircuit, QuantumRegister, Aer, execute\n",
    "from qiskit.providers.aer import QasmSimulator\n",
    "from qiskit.quantum_info import Operator"
   ]
  },
  {
   "cell_type": "code",
   "execution_count": 2,
   "metadata": {},
   "outputs": [],
   "source": [
    "import numpy as np\n",
    "import pylab\n",
    "\n",
    "from qiskit import Aer\n",
    "from qiskit.utils import QuantumInstance, algorithm_globals\n",
    "from qiskit.algorithms import VQE, NumPyMinimumEigensolver\n",
    "from qiskit.algorithms.optimizers import SPSA\n",
    "from qiskit.circuit.library import TwoLocal\n",
    "from qiskit.opflow import I, X, Z"
   ]
  },
  {
   "cell_type": "code",
   "execution_count": 3,
   "metadata": {},
   "outputs": [
    {
     "name": "stdout",
     "output_type": "stream",
     "text": [
      "Number of qubits: 2\n",
      "[[-1.06365335+0.j  0.        +0.j  0.        +0.j  0.1809312 +0.j]\n",
      " [ 0.        +0.j -1.83696799+0.j  0.1809312 +0.j  0.        +0.j]\n",
      " [ 0.        +0.j  0.1809312 +0.j -0.24521829+0.j  0.        +0.j]\n",
      " [ 0.1809312 +0.j  0.        +0.j  0.        +0.j -1.06365335+0.j]]\n"
     ]
    }
   ],
   "source": [
    "H2_op = (-1.052373245772859 * I ^ I) + \\\n",
    "        (0.39793742484318045 * I ^ Z) + \\\n",
    "        (-0.39793742484318045 * Z ^ I) + \\\n",
    "        (-0.01128010425623538 * Z ^ Z) + \\\n",
    "        (0.18093119978423156 * X ^ X)\n",
    "\n",
    "print(f'Number of qubits: {H2_op.num_qubits}')\n",
    "print(H2_op.to_matrix())"
   ]
  },
  {
   "cell_type": "code",
   "execution_count": 4,
   "metadata": {},
   "outputs": [
    {
     "name": "stdout",
     "output_type": "stream",
     "text": [
      "Reference value: -1.85728\n"
     ]
    }
   ],
   "source": [
    "npme = NumPyMinimumEigensolver()\n",
    "result = npme.compute_minimum_eigenvalue(operator=H2_op)\n",
    "ref_value = result.eigenvalue.real\n",
    "print(f'Reference value: {ref_value:.5f}')"
   ]
  },
  {
   "cell_type": "code",
   "execution_count": 5,
   "metadata": {},
   "outputs": [],
   "source": [
    "seed = 170\n",
    "iterations = 125\n",
    "algorithm_globals.random_seed = seed\n",
    "backend = Aer.get_backend('aer_simulator')\n",
    "qi = QuantumInstance(backend=backend, seed_simulator=seed, seed_transpiler=seed) \n",
    "\n",
    "counts = []\n",
    "values = []\n",
    "def store_intermediate_result(eval_count, parameters, mean, std):\n",
    "    counts.append(eval_count)\n",
    "    values.append(mean)\n",
    "\n",
    "ansatz = TwoLocal(rotation_blocks='ry', entanglement_blocks='cz')"
   ]
  },
  {
   "cell_type": "code",
   "execution_count": 6,
   "metadata": {},
   "outputs": [
    {
     "name": "stdout",
     "output_type": "stream",
     "text": [
      "     ┌───────┐┌───────┐     ┌───┐\n",
      "q_0: ┤ Rx(b) ├┤ Rz(a) ├──■──┤ X ├\n",
      "     ├───────┤└───────┘┌─┴─┐└─┬─┘\n",
      "q_1: ┤ Rz(a) ├─────────┤ X ├──■──\n",
      "     └───────┘         └───┘     \n"
     ]
    }
   ],
   "source": [
    "from qiskit.circuit import Parameter, QuantumCircuit, QuantumRegister \n",
    "\n",
    "# First we need to define at least one variational parameter\n",
    "theta = Parameter('a')\n",
    "psi = Parameter('b')\n",
    "\n",
    "no_qubits = H2_op.num_qubits\n",
    "\n",
    "# Create a quantum circuit that is used for the ansatz\n",
    "ansatz = QuantumCircuit(H2_op.num_qubits)\n",
    "\n",
    "# add some single-qubit gates\n",
    "for i in range(no_qubits-1):\n",
    "    if i % 2 == 0:\n",
    "        ansatz.rx(psi, i)\n",
    "\n",
    "ansatz.rz(theta, range(no_qubits))\n",
    "    \n",
    "# add a chain of CNOTs (multi-qubit gates)\n",
    "for i in range(no_qubits-1):\n",
    "    ansatz.cx(i, i+1)\n",
    "ansatz.cx(no_qubits-1,0)\n",
    "#ansatz.barrier()\n",
    "\n",
    "\n",
    "# If you have prepared a state before, you can combine it with your ansatz\n",
    "# ansatz.compose(prepared_state, front=True, inplace=True)\n",
    "\n",
    "print(ansatz)\n",
    "\n"
   ]
  },
  {
   "cell_type": "code",
   "execution_count": 7,
   "metadata": {},
   "outputs": [],
   "source": [
    "def create_zz_hamiltonian(num_qubits: int, connectivity: List[List[int]],\n",
    "                              h_coeffs: List[float]) -> np.ndarray:\n",
    "    \"\"\"Creates a global Hamiltonian consisting of a sum of one (g * Z^i.Z^j) term per device connection.\n",
    "\n",
    "    Args:\n",
    "        num_qubits (int): number of qubits of the Hamiltonian\n",
    "        connectivity (List[List[int]]): connectivity of the device\n",
    "        h_coeffs (List[float]): list of coefficients of each ZZ term\n",
    "\n",
    "    Returns:\n",
    "        np.ndarray: tensored Hamiltonian\n",
    "    \"\"\"\n",
    "    \n",
    "    dim = 2 ** num_qubits\n",
    "    num_connections = len(connectivity)\n",
    "    zz_hamiltonian = np.zeros([dim, dim], dtype=np.complex128)\n",
    "\n",
    "    # create a matrix that is the sum of ZZ operators on all connected qubits,\n",
    "    # tensored with the identity\n",
    "    for c in range(num_connections):\n",
    "        ops_to_tensor = [qt.identity(2)] * num_qubits\n",
    "        ops_to_tensor[connectivity[c][0]] = qt.sigmaz()\n",
    "        ops_to_tensor[connectivity[c][1]] = qt.sigmaz()\n",
    "        zz_hamiltonian += h_coeffs[c] * np.array(qt.tensor(ops_to_tensor))\n",
    "\n",
    "    return zz_hamiltonian"
   ]
  },
  {
   "cell_type": "code",
   "execution_count": 8,
   "metadata": {},
   "outputs": [
    {
     "name": "stdout",
     "output_type": "stream",
     "text": [
      "Instruction(name='hamiltonian', num_qubits=2, num_clbits=0, params=[array([[ 1.+0.j,  0.+0.j,  0.+0.j,  0.+0.j],\n",
      "       [ 0.+0.j, -1.+0.j,  0.+0.j,  0.+0.j],\n",
      "       [ 0.+0.j,  0.+0.j, -1.+0.j,  0.+0.j],\n",
      "       [ 0.+0.j,  0.+0.j,  0.+0.j,  1.+0.j]]), 2])\n"
     ]
    }
   ],
   "source": [
    "num_qubits = 2\n",
    "hamiltonian = create_zz_hamiltonian(num_qubits, [[0, 1]], [1.,1.]) \n",
    "analog_block = HamiltonianGate(data=hamiltonian, time=2) \n",
    "\n",
    "print(analog_block)"
   ]
  },
  {
   "cell_type": "code",
   "execution_count": 9,
   "metadata": {},
   "outputs": [],
   "source": [
    "ansatz = ansatz.to_gate()"
   ]
  },
  {
   "cell_type": "code",
   "execution_count": 10,
   "metadata": {},
   "outputs": [
    {
     "data": {
      "text/html": [
       "<pre style=\"word-wrap: normal;white-space: pre;background: #fff0;line-height: 1.1;font-family: &quot;Courier New&quot;,Courier,monospace\">      ┌──────────────────┐\n",
       "q0_0: ┤0                 ├\n",
       "      │  circuit-89(a,b) │\n",
       "q0_1: ┤1                 ├\n",
       "      └──────────────────┘</pre>"
      ],
      "text/plain": [
       "      ┌──────────────────┐\n",
       "q0_0: ┤0                 ├\n",
       "      │  circuit-89(a,b) │\n",
       "q0_1: ┤1                 ├\n",
       "      └──────────────────┘"
      ]
     },
     "execution_count": 10,
     "metadata": {},
     "output_type": "execute_result"
    }
   ],
   "source": [
    "qr = QuantumRegister(num_qubits)\n",
    "circ = QuantumCircuit(qr)\n",
    "\n",
    "circ.append(ansatz, [0,1])\n",
    "\n",
    "\n",
    "circ.draw()"
   ]
  },
  {
   "cell_type": "code",
   "execution_count": 11,
   "metadata": {},
   "outputs": [
    {
     "name": "stdout",
     "output_type": "stream",
     "text": [
      "VQE on Aer qasm simulator (no noise): -1.06700\n",
      "Delta from reference energy value is 0.79027\n"
     ]
    }
   ],
   "source": [
    "spsa = SPSA(maxiter=iterations)\n",
    "vqe = VQE(circ, optimizer=spsa, callback=store_intermediate_result, quantum_instance=qi)\n",
    "result = vqe.compute_minimum_eigenvalue(operator=H2_op)\n",
    "print(f'VQE on Aer qasm simulator (no noise): {result.eigenvalue.real:.5f}')\n",
    "print(f'Delta from reference energy value is {(result.eigenvalue.real - ref_value):.5f}')"
   ]
  },
  {
   "cell_type": "code",
   "execution_count": 12,
   "metadata": {},
   "outputs": [
    {
     "data": {
      "text/html": [
       "<pre style=\"word-wrap: normal;white-space: pre;background: #fff0;line-height: 1.1;font-family: &quot;Courier New&quot;,Courier,monospace\">      ┌──────────────────┐┌───────────────┐┌──────────────────┐\n",
       "q0_0: ┤0                 ├┤0              ├┤0                 ├\n",
       "      │  circuit-89(a,b) ││  analog block ││  circuit-89(a,b) │\n",
       "q0_1: ┤1                 ├┤1              ├┤1                 ├\n",
       "      └──────────────────┘└───────────────┘└──────────────────┘</pre>"
      ],
      "text/plain": [
       "      ┌──────────────────┐┌───────────────┐┌──────────────────┐\n",
       "q0_0: ┤0                 ├┤0              ├┤0                 ├\n",
       "      │  circuit-89(a,b) ││  analog block ││  circuit-89(a,b) │\n",
       "q0_1: ┤1                 ├┤1              ├┤1                 ├\n",
       "      └──────────────────┘└───────────────┘└──────────────────┘"
      ]
     },
     "execution_count": 12,
     "metadata": {},
     "output_type": "execute_result"
    }
   ],
   "source": [
    "circ.unitary(analog_block, [qr[0], qr[1]], label='analog block')\n",
    "#circ.measure_all()\n",
    "\n",
    "#As always, we can visualize our circuit using the `QuantumCircuit.draw()` method.\n",
    "circ.append(ansatz, [0,1])\n",
    "circ.draw()"
   ]
  },
  {
   "cell_type": "code",
   "execution_count": 13,
   "metadata": {},
   "outputs": [
    {
     "name": "stdout",
     "output_type": "stream",
     "text": [
      "VQE on Aer qasm simulator (no noise): -1.09838\n",
      "Delta from reference energy value is 0.75889\n"
     ]
    }
   ],
   "source": [
    "spsa = SPSA(maxiter=iterations)\n",
    "vqe = VQE(circ, optimizer=spsa, callback=store_intermediate_result, quantum_instance=qi)\n",
    "result = vqe.compute_minimum_eigenvalue(operator=H2_op)\n",
    "print(f'VQE on Aer qasm simulator (no noise): {result.eigenvalue.real:.5f}')\n",
    "print(f'Delta from reference energy value is {(result.eigenvalue.real - ref_value):.5f}')"
   ]
  },
  {
   "cell_type": "code",
   "execution_count": 14,
   "metadata": {},
   "outputs": [
    {
     "data": {
      "text/html": [
       "<pre style=\"word-wrap: normal;white-space: pre;background: #fff0;line-height: 1.1;font-family: &quot;Courier New&quot;,Courier,monospace\">      ┌──────────────────┐┌───────────────┐┌──────────────────┐»\n",
       "q0_0: ┤0                 ├┤0              ├┤0                 ├»\n",
       "      │  circuit-89(a,b) ││  analog block ││  circuit-89(a,b) │»\n",
       "q0_1: ┤1                 ├┤1              ├┤1                 ├»\n",
       "      └──────────────────┘└───────────────┘└──────────────────┘»\n",
       "«      ┌───────────────┐\n",
       "«q0_0: ┤0              ├\n",
       "«      │  analog block │\n",
       "«q0_1: ┤1              ├\n",
       "«      └───────────────┘</pre>"
      ],
      "text/plain": [
       "      ┌──────────────────┐┌───────────────┐┌──────────────────┐»\n",
       "q0_0: ┤0                 ├┤0              ├┤0                 ├»\n",
       "      │  circuit-89(a,b) ││  analog block ││  circuit-89(a,b) │»\n",
       "q0_1: ┤1                 ├┤1              ├┤1                 ├»\n",
       "      └──────────────────┘└───────────────┘└──────────────────┘»\n",
       "«      ┌───────────────┐\n",
       "«q0_0: ┤0              ├\n",
       "«      │  analog block │\n",
       "«q0_1: ┤1              ├\n",
       "«      └───────────────┘"
      ]
     },
     "execution_count": 14,
     "metadata": {},
     "output_type": "execute_result"
    }
   ],
   "source": [
    "circ.unitary(analog_block, [qr[0], qr[1]], label='analog block')\n",
    "circ.draw()"
   ]
  },
  {
   "cell_type": "code",
   "execution_count": 15,
   "metadata": {},
   "outputs": [
    {
     "name": "stdout",
     "output_type": "stream",
     "text": [
      "VQE on Aer qasm simulator (no noise): -1.85060\n",
      "Delta from reference energy value is 0.00667\n"
     ]
    }
   ],
   "source": [
    "spsa = SPSA(maxiter=iterations)\n",
    "vqe = VQE(circ, optimizer=spsa, callback=store_intermediate_result, quantum_instance=qi)\n",
    "result = vqe.compute_minimum_eigenvalue(operator=H2_op)\n",
    "print(f'VQE on Aer qasm simulator (no noise): {result.eigenvalue.real:.5f}')\n",
    "print(f'Delta from reference energy value is {(result.eigenvalue.real - ref_value):.5f}')"
   ]
  },
  {
   "cell_type": "code",
   "execution_count": null,
   "metadata": {},
   "outputs": [],
   "source": []
  }
 ],
 "metadata": {
  "kernelspec": {
   "display_name": "Python 3.9.12 ('base')",
   "language": "python",
   "name": "python3"
  },
  "language_info": {
   "codemirror_mode": {
    "name": "ipython",
    "version": 3
   },
   "file_extension": ".py",
   "mimetype": "text/x-python",
   "name": "python",
   "nbconvert_exporter": "python",
   "pygments_lexer": "ipython3",
   "version": "3.9.12"
  },
  "orig_nbformat": 4,
  "vscode": {
   "interpreter": {
    "hash": "2b04534ac0071a5d865f6029b95b017d8dca842f21441e3fd722d0a796313e59"
   }
  }
 },
 "nbformat": 4,
 "nbformat_minor": 2
}
